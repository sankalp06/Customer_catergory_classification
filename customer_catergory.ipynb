{
 "cells": [
  {
   "cell_type": "markdown",
   "metadata": {},
   "source": [
    "#### Exam description\n",
    "For this exam, you will predict the target values for the test.csv. \n",
    "\n",
    "#### Your task:\n",
    "find a good machine learning model to predict the target value. Then predict the target values of the instances in the test.csv. \n",
    "\n",
    "#### Exam rules\n",
    "- You can use only the machine learning models discussed in this course. \n",
    "    - If the prediction is based on a model that is not discussed in class, one of the models in your submission will randomly be selected for grading. \n",
    "- Fifty percent of the grade is based on your Python code submission. The other 50 percent of your grade is based on the evaluation score of the prediction. \n",
    "- The exam should be syntax error-free. Run your code before the final submission. \n",
    "- Save the final prediction array as ``final_test_prediction``. \n",
    "- <font color = 'red'> The final prediction will be evaluated using the **macro precision** function. </font>\n",
    "\n",
    "#### Devliverable\n",
    "Submit ONLY the iPython notebook or the .py file of your work. Use the following frame for your submission. Please don't remove the headers in the following structure. \n",
    "\n",
    "#### Rubric\n",
    "| Descriptio | Fair | Good | excelent |\n",
    "|:-----------|:------|:------|:----------|\n",
    "|Preprocessing|Demonstrate limited understanding of preprocessing steps | Demonstrate a moderate ability to find a way to apply the preprocessing step to prepare the dataset for Machine learning models | Demonstrate the ability to choose the appropriate preprocessing model to prepare the dataset |\n",
    "|Machine learning model | Demonstrate limited understanding of methods used to train machine learning models | Demonstrate the ability to understand techniques used to train machine learning models with some effectiveness. This includes optimization algorithms, initialization, regularization, and hyperparameter search methods | Demonstrate ability to understand and apply various algorithms as well as initialization, regularization, and hyperparameter search methods |\n",
    "|Final prediction |Demonstrate limited understanding of strategies to structure and end to end machine learning project | Demonstrate ability to understand classic ML strategies such as error analysis, data split, data collection and evaluation metric selection with some effectiveness | Demonstrates ability to structure the project and apply methods such as error analysis, data split, data collection, design a labeling process and select proper evaluation metrics to improve performance.\n",
    "\n",
    "#### Dataset\n",
    "The data set contains various information about a Telecommunication company customers like age, region etc.The list of information is as follow. \n",
    "\n",
    "|Column Name\t|Description and Specifics|\n",
    "|:----|:--|\n",
    "|Region\t|Region code to the area where customers belong.|\n",
    "|Tenure\t|Their span of choosing the company.|\n",
    "|Age\t|Age of the customers.|\n",
    "|Income\t|Their average Salaries|\n",
    "|Marital\t|Their Martial Status|\n",
    "|Address\t|Address Zone|\n",
    "|Ed\t|Education Group|\n",
    "|Employ\t|Employment Years|\n",
    "|Retire\t|Retirement Status|\n",
    "|Gender\t|Their Gender|\n",
    "|Reside\t|Area Code where they live|\n",
    "|Custcat\t|Customer Category (Target Variable)|\n"
   ]
  },
  {
   "cell_type": "markdown",
   "metadata": {},
   "source": [
    "# Preprocessing ``train.csv`` (15 points)"
   ]
  },
  {
   "cell_type": "code",
   "execution_count": 1,
   "metadata": {},
   "outputs": [],
   "source": [
    "import pandas as pd\n",
    "import numpy as np\n",
    "import matplotlib.pyplot as plt\n",
    "from sklearn.preprocessing import LabelEncoder\n",
    "from sklearn.metrics import accuracy_score\n",
    "from sklearn.metrics import confusion_matrix"
   ]
  },
  {
   "cell_type": "code",
   "execution_count": 2,
   "metadata": {},
   "outputs": [
    {
     "data": {
      "text/html": [
       "<div>\n",
       "<style scoped>\n",
       "    .dataframe tbody tr th:only-of-type {\n",
       "        vertical-align: middle;\n",
       "    }\n",
       "\n",
       "    .dataframe tbody tr th {\n",
       "        vertical-align: top;\n",
       "    }\n",
       "\n",
       "    .dataframe thead th {\n",
       "        text-align: right;\n",
       "    }\n",
       "</style>\n",
       "<table border=\"1\" class=\"dataframe\">\n",
       "  <thead>\n",
       "    <tr style=\"text-align: right;\">\n",
       "      <th></th>\n",
       "      <th>region</th>\n",
       "      <th>tenure</th>\n",
       "      <th>age</th>\n",
       "      <th>income</th>\n",
       "      <th>marital</th>\n",
       "      <th>address zone</th>\n",
       "      <th>ed</th>\n",
       "      <th>employ</th>\n",
       "      <th>retire</th>\n",
       "      <th>gender</th>\n",
       "      <th>reside</th>\n",
       "      <th>custcat</th>\n",
       "    </tr>\n",
       "  </thead>\n",
       "  <tbody>\n",
       "    <tr>\n",
       "      <th>0</th>\n",
       "      <td>3.0</td>\n",
       "      <td>999</td>\n",
       "      <td>23</td>\n",
       "      <td>31.0</td>\n",
       "      <td>Married</td>\n",
       "      <td>Zone 1</td>\n",
       "      <td>3.0</td>\n",
       "      <td>1</td>\n",
       "      <td>No</td>\n",
       "      <td>Female</td>\n",
       "      <td>2.0</td>\n",
       "      <td>D</td>\n",
       "    </tr>\n",
       "    <tr>\n",
       "      <th>1</th>\n",
       "      <td>2.0</td>\n",
       "      <td>59</td>\n",
       "      <td>30</td>\n",
       "      <td>34.0</td>\n",
       "      <td>Single</td>\n",
       "      <td>Zone 2</td>\n",
       "      <td>NaN</td>\n",
       "      <td>2</td>\n",
       "      <td>No</td>\n",
       "      <td>Female</td>\n",
       "      <td>1.0</td>\n",
       "      <td>B</td>\n",
       "    </tr>\n",
       "    <tr>\n",
       "      <th>2</th>\n",
       "      <td>3.0</td>\n",
       "      <td>3</td>\n",
       "      <td>20</td>\n",
       "      <td>17.0</td>\n",
       "      <td>Married</td>\n",
       "      <td>Zone 1</td>\n",
       "      <td>2.0</td>\n",
       "      <td>0</td>\n",
       "      <td>No</td>\n",
       "      <td>Female</td>\n",
       "      <td>4.0</td>\n",
       "      <td>A</td>\n",
       "    </tr>\n",
       "    <tr>\n",
       "      <th>3</th>\n",
       "      <td>3.0</td>\n",
       "      <td>44</td>\n",
       "      <td>32</td>\n",
       "      <td>96.0</td>\n",
       "      <td>Married</td>\n",
       "      <td>Zone 1</td>\n",
       "      <td>4.0</td>\n",
       "      <td>5</td>\n",
       "      <td>No</td>\n",
       "      <td>Female</td>\n",
       "      <td>4.0</td>\n",
       "      <td>D</td>\n",
       "    </tr>\n",
       "    <tr>\n",
       "      <th>4</th>\n",
       "      <td>1.0</td>\n",
       "      <td>11</td>\n",
       "      <td>26</td>\n",
       "      <td>53.0</td>\n",
       "      <td>Single</td>\n",
       "      <td>Zone 2</td>\n",
       "      <td>3.0</td>\n",
       "      <td>3</td>\n",
       "      <td>No</td>\n",
       "      <td>Male</td>\n",
       "      <td>1.0</td>\n",
       "      <td>D</td>\n",
       "    </tr>\n",
       "    <tr>\n",
       "      <th>...</th>\n",
       "      <td>...</td>\n",
       "      <td>...</td>\n",
       "      <td>...</td>\n",
       "      <td>...</td>\n",
       "      <td>...</td>\n",
       "      <td>...</td>\n",
       "      <td>...</td>\n",
       "      <td>...</td>\n",
       "      <td>...</td>\n",
       "      <td>...</td>\n",
       "      <td>...</td>\n",
       "      <td>...</td>\n",
       "    </tr>\n",
       "    <tr>\n",
       "      <th>95</th>\n",
       "      <td>1.0</td>\n",
       "      <td>8</td>\n",
       "      <td>49</td>\n",
       "      <td>134.0</td>\n",
       "      <td>Single</td>\n",
       "      <td>Zone 14</td>\n",
       "      <td>4.0</td>\n",
       "      <td>9</td>\n",
       "      <td>No</td>\n",
       "      <td>Female</td>\n",
       "      <td>1.0</td>\n",
       "      <td>D</td>\n",
       "    </tr>\n",
       "    <tr>\n",
       "      <th>96</th>\n",
       "      <td>3.0</td>\n",
       "      <td>25</td>\n",
       "      <td>29</td>\n",
       "      <td>55.0</td>\n",
       "      <td>Single</td>\n",
       "      <td>Zone 9</td>\n",
       "      <td>4.0</td>\n",
       "      <td>1</td>\n",
       "      <td>No</td>\n",
       "      <td>Male</td>\n",
       "      <td>1.0</td>\n",
       "      <td>A</td>\n",
       "    </tr>\n",
       "    <tr>\n",
       "      <th>97</th>\n",
       "      <td>1.0</td>\n",
       "      <td>48</td>\n",
       "      <td>41</td>\n",
       "      <td>43.0</td>\n",
       "      <td>Single</td>\n",
       "      <td>Zone 21</td>\n",
       "      <td>2.0</td>\n",
       "      <td>7</td>\n",
       "      <td>No</td>\n",
       "      <td>Male</td>\n",
       "      <td>1.0</td>\n",
       "      <td>B</td>\n",
       "    </tr>\n",
       "    <tr>\n",
       "      <th>98</th>\n",
       "      <td>1.0</td>\n",
       "      <td>11</td>\n",
       "      <td>24</td>\n",
       "      <td>31.0</td>\n",
       "      <td>Married</td>\n",
       "      <td>Zone 0</td>\n",
       "      <td>2.0</td>\n",
       "      <td>3</td>\n",
       "      <td>No</td>\n",
       "      <td>Female</td>\n",
       "      <td>4.0</td>\n",
       "      <td>D</td>\n",
       "    </tr>\n",
       "    <tr>\n",
       "      <th>99</th>\n",
       "      <td>1.0</td>\n",
       "      <td>19</td>\n",
       "      <td>35</td>\n",
       "      <td>58.0</td>\n",
       "      <td>Single</td>\n",
       "      <td>Zone 7</td>\n",
       "      <td>3.0</td>\n",
       "      <td>5</td>\n",
       "      <td>No</td>\n",
       "      <td>Female</td>\n",
       "      <td>1.0</td>\n",
       "      <td>D</td>\n",
       "    </tr>\n",
       "  </tbody>\n",
       "</table>\n",
       "<p>100 rows × 12 columns</p>\n",
       "</div>"
      ],
      "text/plain": [
       "    region  tenure  age  income  marital address zone   ed  employ retire  \\\n",
       "0      3.0     999   23    31.0  Married       Zone 1  3.0       1     No   \n",
       "1      2.0      59   30    34.0   Single       Zone 2  NaN       2     No   \n",
       "2      3.0       3   20    17.0  Married       Zone 1  2.0       0     No   \n",
       "3      3.0      44   32    96.0  Married       Zone 1  4.0       5     No   \n",
       "4      1.0      11   26    53.0   Single       Zone 2  3.0       3     No   \n",
       "..     ...     ...  ...     ...      ...          ...  ...     ...    ...   \n",
       "95     1.0       8   49   134.0   Single      Zone 14  4.0       9     No   \n",
       "96     3.0      25   29    55.0   Single       Zone 9  4.0       1     No   \n",
       "97     1.0      48   41    43.0   Single      Zone 21  2.0       7     No   \n",
       "98     1.0      11   24    31.0  Married       Zone 0  2.0       3     No   \n",
       "99     1.0      19   35    58.0   Single       Zone 7  3.0       5     No   \n",
       "\n",
       "    gender  reside custcat  \n",
       "0   Female     2.0       D  \n",
       "1   Female     1.0       B  \n",
       "2   Female     4.0       A  \n",
       "3   Female     4.0       D  \n",
       "4     Male     1.0       D  \n",
       "..     ...     ...     ...  \n",
       "95  Female     1.0       D  \n",
       "96    Male     1.0       A  \n",
       "97    Male     1.0       B  \n",
       "98  Female     4.0       D  \n",
       "99  Female     1.0       D  \n",
       "\n",
       "[100 rows x 12 columns]"
      ]
     },
     "execution_count": 2,
     "metadata": {},
     "output_type": "execute_result"
    }
   ],
   "source": [
    "df_train = pd.read_csv('train.csv')\n",
    "df_train.head(100)"
   ]
  },
  {
   "cell_type": "code",
   "execution_count": 3,
   "metadata": {},
   "outputs": [
    {
     "name": "stdout",
     "output_type": "stream",
     "text": [
      "<class 'pandas.core.frame.DataFrame'>\n",
      "RangeIndex: 800 entries, 0 to 799\n",
      "Data columns (total 12 columns):\n",
      " #   Column        Non-Null Count  Dtype  \n",
      "---  ------        --------------  -----  \n",
      " 0   region        774 non-null    float64\n",
      " 1   tenure        800 non-null    int64  \n",
      " 2   age           800 non-null    int64  \n",
      " 3   income        784 non-null    float64\n",
      " 4   marital       788 non-null    object \n",
      " 5   address zone  800 non-null    object \n",
      " 6   ed            781 non-null    float64\n",
      " 7   employ        800 non-null    int64  \n",
      " 8   retire        800 non-null    object \n",
      " 9   gender        800 non-null    object \n",
      " 10  reside        774 non-null    float64\n",
      " 11  custcat       800 non-null    object \n",
      "dtypes: float64(4), int64(3), object(5)\n",
      "memory usage: 75.1+ KB\n"
     ]
    }
   ],
   "source": [
    "df_train.info()"
   ]
  },
  {
   "cell_type": "markdown",
   "metadata": {},
   "source": [
    "Region, income, marital, ed, reside have missing values"
   ]
  },
  {
   "cell_type": "code",
   "execution_count": 4,
   "metadata": {},
   "outputs": [
    {
     "data": {
      "text/html": [
       "<div>\n",
       "<style scoped>\n",
       "    .dataframe tbody tr th:only-of-type {\n",
       "        vertical-align: middle;\n",
       "    }\n",
       "\n",
       "    .dataframe tbody tr th {\n",
       "        vertical-align: top;\n",
       "    }\n",
       "\n",
       "    .dataframe thead th {\n",
       "        text-align: right;\n",
       "    }\n",
       "</style>\n",
       "<table border=\"1\" class=\"dataframe\">\n",
       "  <thead>\n",
       "    <tr style=\"text-align: right;\">\n",
       "      <th></th>\n",
       "      <th>region</th>\n",
       "      <th>tenure</th>\n",
       "      <th>age</th>\n",
       "      <th>income</th>\n",
       "      <th>ed</th>\n",
       "      <th>employ</th>\n",
       "      <th>reside</th>\n",
       "    </tr>\n",
       "  </thead>\n",
       "  <tbody>\n",
       "    <tr>\n",
       "      <th>count</th>\n",
       "      <td>774.000000</td>\n",
       "      <td>800.000000</td>\n",
       "      <td>800.000000</td>\n",
       "      <td>784.000000</td>\n",
       "      <td>781.000000</td>\n",
       "      <td>800.000000</td>\n",
       "      <td>774.000000</td>\n",
       "    </tr>\n",
       "    <tr>\n",
       "      <th>mean</th>\n",
       "      <td>2.043928</td>\n",
       "      <td>89.433750</td>\n",
       "      <td>41.630000</td>\n",
       "      <td>76.922194</td>\n",
       "      <td>2.669654</td>\n",
       "      <td>11.081250</td>\n",
       "      <td>2.326873</td>\n",
       "    </tr>\n",
       "    <tr>\n",
       "      <th>std</th>\n",
       "      <td>0.812664</td>\n",
       "      <td>223.174582</td>\n",
       "      <td>12.400517</td>\n",
       "      <td>108.286705</td>\n",
       "      <td>1.223054</td>\n",
       "      <td>10.152388</td>\n",
       "      <td>1.421650</td>\n",
       "    </tr>\n",
       "    <tr>\n",
       "      <th>min</th>\n",
       "      <td>1.000000</td>\n",
       "      <td>1.000000</td>\n",
       "      <td>19.000000</td>\n",
       "      <td>9.000000</td>\n",
       "      <td>1.000000</td>\n",
       "      <td>0.000000</td>\n",
       "      <td>1.000000</td>\n",
       "    </tr>\n",
       "    <tr>\n",
       "      <th>25%</th>\n",
       "      <td>1.000000</td>\n",
       "      <td>17.000000</td>\n",
       "      <td>32.000000</td>\n",
       "      <td>29.000000</td>\n",
       "      <td>2.000000</td>\n",
       "      <td>3.000000</td>\n",
       "      <td>1.000000</td>\n",
       "    </tr>\n",
       "    <tr>\n",
       "      <th>50%</th>\n",
       "      <td>2.000000</td>\n",
       "      <td>36.000000</td>\n",
       "      <td>40.000000</td>\n",
       "      <td>48.000000</td>\n",
       "      <td>3.000000</td>\n",
       "      <td>8.000000</td>\n",
       "      <td>2.000000</td>\n",
       "    </tr>\n",
       "    <tr>\n",
       "      <th>75%</th>\n",
       "      <td>3.000000</td>\n",
       "      <td>57.000000</td>\n",
       "      <td>51.000000</td>\n",
       "      <td>83.000000</td>\n",
       "      <td>4.000000</td>\n",
       "      <td>17.000000</td>\n",
       "      <td>3.000000</td>\n",
       "    </tr>\n",
       "    <tr>\n",
       "      <th>max</th>\n",
       "      <td>3.000000</td>\n",
       "      <td>999.000000</td>\n",
       "      <td>77.000000</td>\n",
       "      <td>1668.000000</td>\n",
       "      <td>5.000000</td>\n",
       "      <td>47.000000</td>\n",
       "      <td>8.000000</td>\n",
       "    </tr>\n",
       "  </tbody>\n",
       "</table>\n",
       "</div>"
      ],
      "text/plain": [
       "           region      tenure         age       income          ed  \\\n",
       "count  774.000000  800.000000  800.000000   784.000000  781.000000   \n",
       "mean     2.043928   89.433750   41.630000    76.922194    2.669654   \n",
       "std      0.812664  223.174582   12.400517   108.286705    1.223054   \n",
       "min      1.000000    1.000000   19.000000     9.000000    1.000000   \n",
       "25%      1.000000   17.000000   32.000000    29.000000    2.000000   \n",
       "50%      2.000000   36.000000   40.000000    48.000000    3.000000   \n",
       "75%      3.000000   57.000000   51.000000    83.000000    4.000000   \n",
       "max      3.000000  999.000000   77.000000  1668.000000    5.000000   \n",
       "\n",
       "           employ      reside  \n",
       "count  800.000000  774.000000  \n",
       "mean    11.081250    2.326873  \n",
       "std     10.152388    1.421650  \n",
       "min      0.000000    1.000000  \n",
       "25%      3.000000    1.000000  \n",
       "50%      8.000000    2.000000  \n",
       "75%     17.000000    3.000000  \n",
       "max     47.000000    8.000000  "
      ]
     },
     "execution_count": 4,
     "metadata": {},
     "output_type": "execute_result"
    }
   ],
   "source": [
    "df_train.describe()"
   ]
  },
  {
   "cell_type": "code",
   "execution_count": 5,
   "metadata": {},
   "outputs": [
    {
     "data": {
      "text/html": [
       "<div>\n",
       "<style scoped>\n",
       "    .dataframe tbody tr th:only-of-type {\n",
       "        vertical-align: middle;\n",
       "    }\n",
       "\n",
       "    .dataframe tbody tr th {\n",
       "        vertical-align: top;\n",
       "    }\n",
       "\n",
       "    .dataframe thead th {\n",
       "        text-align: right;\n",
       "    }\n",
       "</style>\n",
       "<table border=\"1\" class=\"dataframe\">\n",
       "  <thead>\n",
       "    <tr style=\"text-align: right;\">\n",
       "      <th></th>\n",
       "      <th>region</th>\n",
       "      <th>tenure</th>\n",
       "      <th>age</th>\n",
       "      <th>income</th>\n",
       "      <th>marital</th>\n",
       "      <th>address zone</th>\n",
       "      <th>ed</th>\n",
       "      <th>employ</th>\n",
       "      <th>retire</th>\n",
       "      <th>gender</th>\n",
       "      <th>reside</th>\n",
       "      <th>custcat</th>\n",
       "    </tr>\n",
       "  </thead>\n",
       "  <tbody>\n",
       "    <tr>\n",
       "      <th>1</th>\n",
       "      <td>2.0</td>\n",
       "      <td>59</td>\n",
       "      <td>30</td>\n",
       "      <td>34.0</td>\n",
       "      <td>Single</td>\n",
       "      <td>Zone 2</td>\n",
       "      <td>NaN</td>\n",
       "      <td>2</td>\n",
       "      <td>No</td>\n",
       "      <td>Female</td>\n",
       "      <td>1.0</td>\n",
       "      <td>B</td>\n",
       "    </tr>\n",
       "    <tr>\n",
       "      <th>8</th>\n",
       "      <td>NaN</td>\n",
       "      <td>30</td>\n",
       "      <td>34</td>\n",
       "      <td>27.0</td>\n",
       "      <td>Married</td>\n",
       "      <td>Zone 4</td>\n",
       "      <td>2.0</td>\n",
       "      <td>1</td>\n",
       "      <td>No</td>\n",
       "      <td>Male</td>\n",
       "      <td>5.0</td>\n",
       "      <td>A</td>\n",
       "    </tr>\n",
       "    <tr>\n",
       "      <th>13</th>\n",
       "      <td>NaN</td>\n",
       "      <td>33</td>\n",
       "      <td>58</td>\n",
       "      <td>21.0</td>\n",
       "      <td>Single</td>\n",
       "      <td>Zone 12</td>\n",
       "      <td>2.0</td>\n",
       "      <td>23</td>\n",
       "      <td>Yes</td>\n",
       "      <td>Female</td>\n",
       "      <td>1.0</td>\n",
       "      <td>A</td>\n",
       "    </tr>\n",
       "    <tr>\n",
       "      <th>36</th>\n",
       "      <td>2.0</td>\n",
       "      <td>6</td>\n",
       "      <td>27</td>\n",
       "      <td>26.0</td>\n",
       "      <td>Married</td>\n",
       "      <td>Zone 5</td>\n",
       "      <td>4.0</td>\n",
       "      <td>2</td>\n",
       "      <td>No</td>\n",
       "      <td>Male</td>\n",
       "      <td>NaN</td>\n",
       "      <td>A</td>\n",
       "    </tr>\n",
       "    <tr>\n",
       "      <th>37</th>\n",
       "      <td>2.0</td>\n",
       "      <td>8</td>\n",
       "      <td>24</td>\n",
       "      <td>18.0</td>\n",
       "      <td>Married</td>\n",
       "      <td>Zone 1</td>\n",
       "      <td>4.0</td>\n",
       "      <td>0</td>\n",
       "      <td>No</td>\n",
       "      <td>Female</td>\n",
       "      <td>NaN</td>\n",
       "      <td>D</td>\n",
       "    </tr>\n",
       "    <tr>\n",
       "      <th>...</th>\n",
       "      <td>...</td>\n",
       "      <td>...</td>\n",
       "      <td>...</td>\n",
       "      <td>...</td>\n",
       "      <td>...</td>\n",
       "      <td>...</td>\n",
       "      <td>...</td>\n",
       "      <td>...</td>\n",
       "      <td>...</td>\n",
       "      <td>...</td>\n",
       "      <td>...</td>\n",
       "      <td>...</td>\n",
       "    </tr>\n",
       "    <tr>\n",
       "      <th>772</th>\n",
       "      <td>2.0</td>\n",
       "      <td>46</td>\n",
       "      <td>49</td>\n",
       "      <td>51.0</td>\n",
       "      <td>Married</td>\n",
       "      <td>Zone 13</td>\n",
       "      <td>NaN</td>\n",
       "      <td>21</td>\n",
       "      <td>No</td>\n",
       "      <td>Male</td>\n",
       "      <td>2.0</td>\n",
       "      <td>A</td>\n",
       "    </tr>\n",
       "    <tr>\n",
       "      <th>773</th>\n",
       "      <td>3.0</td>\n",
       "      <td>72</td>\n",
       "      <td>65</td>\n",
       "      <td>71.0</td>\n",
       "      <td>Married</td>\n",
       "      <td>Zone 33</td>\n",
       "      <td>NaN</td>\n",
       "      <td>41</td>\n",
       "      <td>Yes</td>\n",
       "      <td>Female</td>\n",
       "      <td>4.0</td>\n",
       "      <td>C</td>\n",
       "    </tr>\n",
       "    <tr>\n",
       "      <th>776</th>\n",
       "      <td>2.0</td>\n",
       "      <td>16</td>\n",
       "      <td>49</td>\n",
       "      <td>41.0</td>\n",
       "      <td>NaN</td>\n",
       "      <td>Zone 17</td>\n",
       "      <td>2.0</td>\n",
       "      <td>5</td>\n",
       "      <td>No</td>\n",
       "      <td>Male</td>\n",
       "      <td>NaN</td>\n",
       "      <td>D</td>\n",
       "    </tr>\n",
       "    <tr>\n",
       "      <th>780</th>\n",
       "      <td>1.0</td>\n",
       "      <td>68</td>\n",
       "      <td>41</td>\n",
       "      <td>72.0</td>\n",
       "      <td>NaN</td>\n",
       "      <td>Zone 21</td>\n",
       "      <td>1.0</td>\n",
       "      <td>22</td>\n",
       "      <td>No</td>\n",
       "      <td>Male</td>\n",
       "      <td>3.0</td>\n",
       "      <td>B</td>\n",
       "    </tr>\n",
       "    <tr>\n",
       "      <th>784</th>\n",
       "      <td>NaN</td>\n",
       "      <td>72</td>\n",
       "      <td>53</td>\n",
       "      <td>152.0</td>\n",
       "      <td>Single</td>\n",
       "      <td>Zone 12</td>\n",
       "      <td>2.0</td>\n",
       "      <td>32</td>\n",
       "      <td>No</td>\n",
       "      <td>Female</td>\n",
       "      <td>1.0</td>\n",
       "      <td>D</td>\n",
       "    </tr>\n",
       "  </tbody>\n",
       "</table>\n",
       "<p>95 rows × 12 columns</p>\n",
       "</div>"
      ],
      "text/plain": [
       "     region  tenure  age  income  marital address zone   ed  employ retire  \\\n",
       "1       2.0      59   30    34.0   Single       Zone 2  NaN       2     No   \n",
       "8       NaN      30   34    27.0  Married       Zone 4  2.0       1     No   \n",
       "13      NaN      33   58    21.0   Single      Zone 12  2.0      23    Yes   \n",
       "36      2.0       6   27    26.0  Married       Zone 5  4.0       2     No   \n",
       "37      2.0       8   24    18.0  Married       Zone 1  4.0       0     No   \n",
       "..      ...     ...  ...     ...      ...          ...  ...     ...    ...   \n",
       "772     2.0      46   49    51.0  Married      Zone 13  NaN      21     No   \n",
       "773     3.0      72   65    71.0  Married      Zone 33  NaN      41    Yes   \n",
       "776     2.0      16   49    41.0      NaN      Zone 17  2.0       5     No   \n",
       "780     1.0      68   41    72.0      NaN      Zone 21  1.0      22     No   \n",
       "784     NaN      72   53   152.0   Single      Zone 12  2.0      32     No   \n",
       "\n",
       "     gender  reside custcat  \n",
       "1    Female     1.0       B  \n",
       "8      Male     5.0       A  \n",
       "13   Female     1.0       A  \n",
       "36     Male     NaN       A  \n",
       "37   Female     NaN       D  \n",
       "..      ...     ...     ...  \n",
       "772    Male     2.0       A  \n",
       "773  Female     4.0       C  \n",
       "776    Male     NaN       D  \n",
       "780    Male     3.0       B  \n",
       "784  Female     1.0       D  \n",
       "\n",
       "[95 rows x 12 columns]"
      ]
     },
     "execution_count": 5,
     "metadata": {},
     "output_type": "execute_result"
    }
   ],
   "source": [
    "df_train[df_train.isnull().any(axis=1)]"
   ]
  },
  {
   "cell_type": "code",
   "execution_count": 6,
   "metadata": {},
   "outputs": [
    {
     "data": {
      "text/plain": [
       "<matplotlib.axes._subplots.AxesSubplot at 0x217b55705c8>"
      ]
     },
     "execution_count": 6,
     "metadata": {},
     "output_type": "execute_result"
    },
    {
     "data": {
      "image/png": "[encoded data removed]",
      "text/plain": [
       "<Figure size 1440x1440 with 9 Axes>"
      ]
     },
     "metadata": {
      "needs_background": "light"
     },
     "output_type": "display_data"
    }
   ],
   "source": [
    "# Set up a grid of plots\n",
    "fig = plt.figure(figsize=(20,20)) \n",
    "fig_dims = (3, 4)\n",
    "\n",
    "plt.subplot2grid(fig_dims, (0, 0))\n",
    "df_train['region'].value_counts().plot(kind='bar', \n",
    "                                         title='Region')\n",
    "\n",
    "plt.subplot2grid(fig_dims, (0, 1))\n",
    "df_train[df_train['tenure']<999]['tenure'].hist()\n",
    "plt.title('Tenure Histogram')\n",
    "\n",
    "plt.subplot2grid(fig_dims, (0, 2))\n",
    "df_train['age'].hist()\n",
    "plt.title('Age Histogram')\n",
    "\n",
    "plt.subplot2grid(fig_dims, (1, 0))\n",
    "df_train['marital'].value_counts().plot(kind='bar', \n",
    "                                       title='Marital Status')\n",
    "\n",
    "plt.subplot2grid(fig_dims, (1, 2))\n",
    "df_train['ed'].value_counts().plot(kind='bar', \n",
    "                                    title='Education Group')\n",
    "\n",
    "plt.subplot2grid(fig_dims, (2, 0))\n",
    "df_train['employ'].hist()\n",
    "plt.title('Employment Years Histogram')\n",
    "\n",
    "plt.subplot2grid(fig_dims, (2, 1))\n",
    "df_train['retire'].value_counts().plot(kind='bar', \n",
    "                                         title='Retired')\n",
    "\n",
    "plt.subplot2grid(fig_dims, (2, 2))\n",
    "df_train['gender'].value_counts().plot(kind='bar', \n",
    "                                         title='Gender')\n",
    "\n",
    "plt.subplot2grid(fig_dims, (1,1))\n",
    "df_train['reside'].value_counts().plot(kind='bar', \n",
    "                                         title='Area code of residence')"
   ]
  },
  {
   "cell_type": "code",
   "execution_count": 7,
   "metadata": {},
   "outputs": [
    {
     "name": "stdout",
     "output_type": "stream",
     "text": [
      "<class 'pandas.core.frame.DataFrame'>\n",
      "Int64Index: 748 entries, 0 to 799\n",
      "Data columns (total 12 columns):\n",
      " #   Column        Non-Null Count  Dtype  \n",
      "---  ------        --------------  -----  \n",
      " 0   region        748 non-null    float64\n",
      " 1   tenure        748 non-null    int64  \n",
      " 2   age           748 non-null    int64  \n",
      " 3   income        733 non-null    float64\n",
      " 4   marital       737 non-null    object \n",
      " 5   address zone  748 non-null    object \n",
      " 6   ed            730 non-null    float64\n",
      " 7   employ        748 non-null    int64  \n",
      " 8   retire        748 non-null    object \n",
      " 9   gender        748 non-null    object \n",
      " 10  reside        748 non-null    float64\n",
      " 11  custcat       748 non-null    object \n",
      "dtypes: float64(4), int64(3), object(5)\n",
      "memory usage: 76.0+ KB\n"
     ]
    }
   ],
   "source": [
    "#drop na for region and reside\n",
    "df_train= df_train.dropna(subset = ['region'])\n",
    "df_train= df_train.dropna(subset = ['reside'])\n",
    "df_train.info()"
   ]
  },
  {
   "cell_type": "code",
   "execution_count": 8,
   "metadata": {
    "scrolled": true
   },
   "outputs": [
    {
     "name": "stdout",
     "output_type": "stream",
     "text": [
      "<class 'pandas.core.frame.DataFrame'>\n",
      "Int64Index: 748 entries, 0 to 799\n",
      "Data columns (total 12 columns):\n",
      " #   Column        Non-Null Count  Dtype  \n",
      "---  ------        --------------  -----  \n",
      " 0   region        748 non-null    float64\n",
      " 1   tenure        748 non-null    int64  \n",
      " 2   age           748 non-null    int64  \n",
      " 3   income        748 non-null    float64\n",
      " 4   marital       737 non-null    object \n",
      " 5   address zone  748 non-null    object \n",
      " 6   ed            730 non-null    float64\n",
      " 7   employ        748 non-null    int64  \n",
      " 8   retire        748 non-null    object \n",
      " 9   gender        748 non-null    object \n",
      " 10  reside        748 non-null    float64\n",
      " 11  custcat       748 non-null    object \n",
      "dtypes: float64(4), int64(3), object(5)\n",
      "memory usage: 76.0+ KB\n"
     ]
    }
   ],
   "source": [
    "#impute income with median income of each age\n",
    "df_train['income'] = df_train.groupby('age')['income'].apply(lambda x:x.fillna(x.median()))\n",
    "df_train.info() "
   ]
  },
  {
   "cell_type": "code",
   "execution_count": 9,
   "metadata": {},
   "outputs": [
    {
     "name": "stdout",
     "output_type": "stream",
     "text": [
      "<class 'pandas.core.frame.DataFrame'>\n",
      "Int64Index: 748 entries, 0 to 799\n",
      "Data columns (total 12 columns):\n",
      " #   Column        Non-Null Count  Dtype  \n",
      "---  ------        --------------  -----  \n",
      " 0   region        748 non-null    float64\n",
      " 1   tenure        748 non-null    int64  \n",
      " 2   age           748 non-null    int64  \n",
      " 3   income        748 non-null    float64\n",
      " 4   marital       748 non-null    object \n",
      " 5   address zone  748 non-null    object \n",
      " 6   ed            730 non-null    float64\n",
      " 7   employ        748 non-null    int64  \n",
      " 8   retire        748 non-null    object \n",
      " 9   gender        748 non-null    object \n",
      " 10  reside        748 non-null    float64\n",
      " 11  custcat       748 non-null    object \n",
      "dtypes: float64(4), int64(3), object(5)\n",
      "memory usage: 76.0+ KB\n"
     ]
    }
   ],
   "source": [
    "#impute marital with mode of each age\n",
    "df_train['marital'] = df_train.groupby('age')['marital'].apply(lambda x:x.fillna(x.value_counts().index[0]))\n",
    "df_train.info()"
   ]
  },
  {
   "cell_type": "code",
   "execution_count": 10,
   "metadata": {},
   "outputs": [
    {
     "name": "stdout",
     "output_type": "stream",
     "text": [
      "<class 'pandas.core.frame.DataFrame'>\n",
      "Int64Index: 748 entries, 0 to 799\n",
      "Data columns (total 12 columns):\n",
      " #   Column        Non-Null Count  Dtype  \n",
      "---  ------        --------------  -----  \n",
      " 0   region        748 non-null    float64\n",
      " 1   tenure        748 non-null    int64  \n",
      " 2   age           748 non-null    int64  \n",
      " 3   income        748 non-null    float64\n",
      " 4   marital       748 non-null    object \n",
      " 5   address zone  748 non-null    object \n",
      " 6   ed            748 non-null    float64\n",
      " 7   employ        748 non-null    int64  \n",
      " 8   retire        748 non-null    object \n",
      " 9   gender        748 non-null    object \n",
      " 10  reside        748 non-null    float64\n",
      " 11  custcat       748 non-null    object \n",
      "dtypes: float64(4), int64(3), object(5)\n",
      "memory usage: 76.0+ KB\n"
     ]
    }
   ],
   "source": [
    "#impute ed with median at each age\n",
    "df_train['ed'] = df_train.groupby('age')['ed'].apply(lambda x:x.fillna(x.median()))\n",
    "df_train.info() "
   ]
  },
  {
   "cell_type": "code",
   "execution_count": 11,
   "metadata": {},
   "outputs": [
    {
     "data": {
      "image/png": "[encoded data removed]",
      "text/plain": [
       "<Figure size 432x288 with 1 Axes>"
      ]
     },
     "metadata": {
      "needs_background": "light"
     },
     "output_type": "display_data"
    }
   ],
   "source": [
    "df_train['gender'].value_counts().plot(kind = 'bar')\n",
    "df_train['gender'] = df_train['gender'].map({'Male': 0, 'Female': 1})"
   ]
  },
  {
   "cell_type": "code",
   "execution_count": 12,
   "metadata": {
    "scrolled": true
   },
   "outputs": [
    {
     "data": {
      "image/png": "[encoded data removed]",
      "text/plain": [
       "<Figure size 432x288 with 1 Axes>"
      ]
     },
     "metadata": {
      "needs_background": "light"
     },
     "output_type": "display_data"
    }
   ],
   "source": [
    "df_train['retire'].value_counts().plot(kind = 'bar')\n",
    "df_train['retire'] = df_train['retire'].map({'Yes': 0, 'No': 1})"
   ]
  },
  {
   "cell_type": "code",
   "execution_count": 13,
   "metadata": {},
   "outputs": [],
   "source": [
    "cols = pd.get_dummies(df_train['marital'])\n",
    "df_train[cols.columns] = cols\n",
    "df_train.drop('marital', axis = 1, inplace = True)"
   ]
  },
  {
   "cell_type": "code",
   "execution_count": 14,
   "metadata": {},
   "outputs": [],
   "source": [
    "cols = pd.get_dummies(df_train['address zone'])\n",
    "df_train[cols.columns] = cols\n",
    "df_train.drop('address zone', axis = 1, inplace = True)"
   ]
  },
  {
   "cell_type": "code",
   "execution_count": 15,
   "metadata": {},
   "outputs": [],
   "source": [
    "cols = pd.get_dummies(df_train['reside'])\n",
    "df_train[cols.columns] = cols\n",
    "df_train.drop('reside', axis = 1, inplace = True)"
   ]
  },
  {
   "cell_type": "code",
   "execution_count": 16,
   "metadata": {},
   "outputs": [
    {
     "name": "stdout",
     "output_type": "stream",
     "text": [
      "<class 'pandas.core.frame.DataFrame'>\n",
      "Int64Index: 748 entries, 0 to 799\n",
      "Data columns (total 68 columns):\n",
      " #   Column   Non-Null Count  Dtype  \n",
      "---  ------   --------------  -----  \n",
      " 0   region   748 non-null    float64\n",
      " 1   tenure   748 non-null    int64  \n",
      " 2   age      748 non-null    int64  \n",
      " 3   income   748 non-null    float64\n",
      " 4   ed       748 non-null    float64\n",
      " 5   employ   748 non-null    int64  \n",
      " 6   retire   748 non-null    int64  \n",
      " 7   gender   748 non-null    int64  \n",
      " 8   custcat  748 non-null    object \n",
      " 9   Married  748 non-null    uint8  \n",
      " 10  Single   748 non-null    uint8  \n",
      " 11  Unknown  748 non-null    uint8  \n",
      " 12  Zone 0   748 non-null    uint8  \n",
      " 13  Zone 1   748 non-null    uint8  \n",
      " 14  Zone 10  748 non-null    uint8  \n",
      " 15  Zone 11  748 non-null    uint8  \n",
      " 16  Zone 12  748 non-null    uint8  \n",
      " 17  Zone 13  748 non-null    uint8  \n",
      " 18  Zone 14  748 non-null    uint8  \n",
      " 19  Zone 15  748 non-null    uint8  \n",
      " 20  Zone 16  748 non-null    uint8  \n",
      " 21  Zone 17  748 non-null    uint8  \n",
      " 22  Zone 18  748 non-null    uint8  \n",
      " 23  Zone 19  748 non-null    uint8  \n",
      " 24  Zone 2   748 non-null    uint8  \n",
      " 25  Zone 20  748 non-null    uint8  \n",
      " 26  Zone 21  748 non-null    uint8  \n",
      " 27  Zone 22  748 non-null    uint8  \n",
      " 28  Zone 23  748 non-null    uint8  \n",
      " 29  Zone 24  748 non-null    uint8  \n",
      " 30  Zone 25  748 non-null    uint8  \n",
      " 31  Zone 26  748 non-null    uint8  \n",
      " 32  Zone 27  748 non-null    uint8  \n",
      " 33  Zone 28  748 non-null    uint8  \n",
      " 34  Zone 29  748 non-null    uint8  \n",
      " 35  Zone 3   748 non-null    uint8  \n",
      " 36  Zone 30  748 non-null    uint8  \n",
      " 37  Zone 31  748 non-null    uint8  \n",
      " 38  Zone 32  748 non-null    uint8  \n",
      " 39  Zone 33  748 non-null    uint8  \n",
      " 40  Zone 34  748 non-null    uint8  \n",
      " 41  Zone 35  748 non-null    uint8  \n",
      " 42  Zone 36  748 non-null    uint8  \n",
      " 43  Zone 37  748 non-null    uint8  \n",
      " 44  Zone 38  748 non-null    uint8  \n",
      " 45  Zone 39  748 non-null    uint8  \n",
      " 46  Zone 4   748 non-null    uint8  \n",
      " 47  Zone 40  748 non-null    uint8  \n",
      " 48  Zone 41  748 non-null    uint8  \n",
      " 49  Zone 42  748 non-null    uint8  \n",
      " 50  Zone 43  748 non-null    uint8  \n",
      " 51  Zone 44  748 non-null    uint8  \n",
      " 52  Zone 45  748 non-null    uint8  \n",
      " 53  Zone 46  748 non-null    uint8  \n",
      " 54  Zone 5   748 non-null    uint8  \n",
      " 55  Zone 55  748 non-null    uint8  \n",
      " 56  Zone 6   748 non-null    uint8  \n",
      " 57  Zone 7   748 non-null    uint8  \n",
      " 58  Zone 8   748 non-null    uint8  \n",
      " 59  Zone 9   748 non-null    uint8  \n",
      " 60  1.0      748 non-null    uint8  \n",
      " 61  2.0      748 non-null    uint8  \n",
      " 62  3.0      748 non-null    uint8  \n",
      " 63  4.0      748 non-null    uint8  \n",
      " 64  5.0      748 non-null    uint8  \n",
      " 65  6.0      748 non-null    uint8  \n",
      " 66  7.0      748 non-null    uint8  \n",
      " 67  8.0      748 non-null    uint8  \n",
      "dtypes: float64(3), int64(5), object(1), uint8(59)\n",
      "memory usage: 101.5+ KB\n"
     ]
    }
   ],
   "source": [
    "df_train.info()"
   ]
  },
  {
   "cell_type": "markdown",
   "metadata": {},
   "source": [
    "# Preprocessing ``test.csv`` (10 points)"
   ]
  },
  {
   "cell_type": "code",
   "execution_count": 17,
   "metadata": {
    "scrolled": true
   },
   "outputs": [
    {
     "name": "stdout",
     "output_type": "stream",
     "text": [
      "<class 'pandas.core.frame.DataFrame'>\n",
      "RangeIndex: 200 entries, 0 to 199\n",
      "Data columns (total 12 columns):\n",
      " #   Column        Non-Null Count  Dtype  \n",
      "---  ------        --------------  -----  \n",
      " 0   Unnamed: 0    200 non-null    int64  \n",
      " 1   region        195 non-null    float64\n",
      " 2   tenure        200 non-null    int64  \n",
      " 3   age           200 non-null    int64  \n",
      " 4   income        192 non-null    float64\n",
      " 5   marital       195 non-null    object \n",
      " 6   address zone  200 non-null    object \n",
      " 7   ed            196 non-null    float64\n",
      " 8   employ        200 non-null    object \n",
      " 9   retire        200 non-null    int64  \n",
      " 10  gender        200 non-null    object \n",
      " 11  reside        195 non-null    float64\n",
      "dtypes: float64(4), int64(4), object(4)\n",
      "memory usage: 18.9+ KB\n"
     ]
    }
   ],
   "source": [
    "df_test = pd.read_csv('test.csv')\n",
    "df_test.info()"
   ]
  },
  {
   "cell_type": "code",
   "execution_count": 18,
   "metadata": {},
   "outputs": [
    {
     "data": {
      "image/png": "[encoded data removed]",
      "text/plain": [
       "<Figure size 432x288 with 1 Axes>"
      ]
     },
     "metadata": {
      "needs_background": "light"
     },
     "output_type": "display_data"
    }
   ],
   "source": [
    "df_test['gender'].value_counts().plot(kind = 'bar')\n",
    "df_test['gender'] = df_test['gender'].map({'Male': 0, 'Female': 1}).astype(float)"
   ]
  },
  {
   "cell_type": "code",
   "execution_count": 19,
   "metadata": {},
   "outputs": [],
   "source": [
    "df_test_x = df_test.drop('Unnamed: 0', axis =1)"
   ]
  },
  {
   "cell_type": "code",
   "execution_count": 20,
   "metadata": {},
   "outputs": [],
   "source": [
    "df_test['employ'] = df_test['employ'].replace(['^\\s+$'], np.nan, regex = True)\n",
    "df_test[df_test['employ'].isna()]= 0\n",
    "df_test['employ'] = df_test['employ'].astype(int)"
   ]
  },
  {
   "cell_type": "code",
   "execution_count": 21,
   "metadata": {},
   "outputs": [
    {
     "name": "stdout",
     "output_type": "stream",
     "text": [
      "<class 'pandas.core.frame.DataFrame'>\n",
      "RangeIndex: 200 entries, 0 to 199\n",
      "Data columns (total 12 columns):\n",
      " #   Column        Non-Null Count  Dtype  \n",
      "---  ------        --------------  -----  \n",
      " 0   Unnamed: 0    200 non-null    int64  \n",
      " 1   region        196 non-null    float64\n",
      " 2   tenure        200 non-null    int64  \n",
      " 3   age           200 non-null    int64  \n",
      " 4   income        192 non-null    float64\n",
      " 5   marital       195 non-null    object \n",
      " 6   address zone  200 non-null    object \n",
      " 7   ed            196 non-null    float64\n",
      " 8   employ        200 non-null    int32  \n",
      " 9   retire        200 non-null    int64  \n",
      " 10  gender        200 non-null    float64\n",
      " 11  reside        195 non-null    float64\n",
      "dtypes: float64(5), int32(1), int64(4), object(2)\n",
      "memory usage: 18.1+ KB\n"
     ]
    }
   ],
   "source": [
    "df_test.info()"
   ]
  },
  {
   "cell_type": "code",
   "execution_count": 22,
   "metadata": {},
   "outputs": [
    {
     "data": {
      "text/plain": [
       "<matplotlib.axes._subplots.AxesSubplot at 0x217b5847588>"
      ]
     },
     "execution_count": 22,
     "metadata": {},
     "output_type": "execute_result"
    },
    {
     "data": {
      "image/png": "[encoded data removed]",
      "text/plain": [
       "<Figure size 432x288 with 1 Axes>"
      ]
     },
     "metadata": {
      "needs_background": "light"
     },
     "output_type": "display_data"
    }
   ],
   "source": [
    "df_test['marital'].value_counts().plot(kind='bar', \n",
    "                                       title='Marital Status')"
   ]
  },
  {
   "cell_type": "code",
   "execution_count": 23,
   "metadata": {},
   "outputs": [
    {
     "name": "stdout",
     "output_type": "stream",
     "text": [
      "<class 'pandas.core.frame.DataFrame'>\n",
      "RangeIndex: 200 entries, 0 to 199\n",
      "Data columns (total 12 columns):\n",
      " #   Column        Non-Null Count  Dtype  \n",
      "---  ------        --------------  -----  \n",
      " 0   Unnamed: 0    200 non-null    int64  \n",
      " 1   region        200 non-null    float64\n",
      " 2   tenure        200 non-null    int64  \n",
      " 3   age           200 non-null    int64  \n",
      " 4   income        200 non-null    float64\n",
      " 5   marital       200 non-null    object \n",
      " 6   address zone  200 non-null    object \n",
      " 7   ed            200 non-null    float64\n",
      " 8   employ        200 non-null    int32  \n",
      " 9   retire        200 non-null    int64  \n",
      " 10  gender        200 non-null    float64\n",
      " 11  reside        200 non-null    float64\n",
      "dtypes: float64(5), int32(1), int64(4), object(2)\n",
      "memory usage: 18.1+ KB\n"
     ]
    }
   ],
   "source": [
    "#impute income with median income of each age\n",
    "df_test['income'] = df_test.groupby('age')['income'].apply(lambda x:x.fillna(x.median()))\n",
    "#impute ed with median at each age\n",
    "df_test['ed'] = df_test.groupby('age')['ed'].apply(lambda x:x.fillna(x.median()))\n",
    "#impute marital with mode of each age\n",
    "df_test['marital'] = df_test.groupby('age')['marital'].fillna(df_test['marital'].mode().iloc[0])\n",
    "#impute region with most frequent class of age group\n",
    "df_test['region'] = df_test.groupby('age')['region'].apply(lambda x:x.fillna(x.value_counts().index[0]))\n",
    "#impute reside with most frequent class of age group\n",
    "df_test['reside'] = df_test.groupby('age')['reside'].apply(lambda x:x.fillna(x.value_counts().index[0]))\n",
    "\n",
    "df_test.info() "
   ]
  },
  {
   "cell_type": "code",
   "execution_count": 24,
   "metadata": {},
   "outputs": [],
   "source": [
    "cols = pd.get_dummies(df_test['marital'])\n",
    "df_test[cols.columns] = cols\n",
    "df_test.drop('marital', axis = 1, inplace = True)"
   ]
  },
  {
   "cell_type": "code",
   "execution_count": 25,
   "metadata": {},
   "outputs": [],
   "source": [
    "cols = pd.get_dummies(df_test['address zone'])\n",
    "df_test[cols.columns] = cols\n",
    "df_test.drop('address zone', axis = 1, inplace = True)"
   ]
  },
  {
   "cell_type": "code",
   "execution_count": 26,
   "metadata": {},
   "outputs": [],
   "source": [
    "cols = pd.get_dummies(df_test['reside'])\n",
    "df_test[cols.columns] = cols\n",
    "df_test.drop('reside', axis = 1, inplace = True)"
   ]
  },
  {
   "cell_type": "code",
   "execution_count": 27,
   "metadata": {},
   "outputs": [],
   "source": [
    "missing_cols = set(df_train.columns) - set(df_test.columns)\n",
    "for c in missing_cols:\n",
    "    df_test[c] = 0\n",
    "df_test = df_test[df_train.columns]\n",
    "df_test = df_test.drop('custcat', axis = 1)"
   ]
  },
  {
   "cell_type": "code",
   "execution_count": 28,
   "metadata": {
    "scrolled": true
   },
   "outputs": [
    {
     "name": "stdout",
     "output_type": "stream",
     "text": [
      "<class 'pandas.core.frame.DataFrame'>\n",
      "RangeIndex: 200 entries, 0 to 199\n",
      "Data columns (total 67 columns):\n",
      " #   Column   Non-Null Count  Dtype  \n",
      "---  ------   --------------  -----  \n",
      " 0   region   200 non-null    float64\n",
      " 1   tenure   200 non-null    int64  \n",
      " 2   age      200 non-null    int64  \n",
      " 3   income   200 non-null    float64\n",
      " 4   ed       200 non-null    float64\n",
      " 5   employ   200 non-null    int32  \n",
      " 6   retire   200 non-null    int64  \n",
      " 7   gender   200 non-null    float64\n",
      " 8   Married  200 non-null    uint8  \n",
      " 9   Single   200 non-null    uint8  \n",
      " 10  Unknown  200 non-null    uint8  \n",
      " 11  Zone 0   200 non-null    uint8  \n",
      " 12  Zone 1   200 non-null    uint8  \n",
      " 13  Zone 10  200 non-null    uint8  \n",
      " 14  Zone 11  200 non-null    uint8  \n",
      " 15  Zone 12  200 non-null    uint8  \n",
      " 16  Zone 13  200 non-null    uint8  \n",
      " 17  Zone 14  200 non-null    uint8  \n",
      " 18  Zone 15  200 non-null    uint8  \n",
      " 19  Zone 16  200 non-null    uint8  \n",
      " 20  Zone 17  200 non-null    uint8  \n",
      " 21  Zone 18  200 non-null    uint8  \n",
      " 22  Zone 19  200 non-null    uint8  \n",
      " 23  Zone 2   200 non-null    uint8  \n",
      " 24  Zone 20  200 non-null    uint8  \n",
      " 25  Zone 21  200 non-null    uint8  \n",
      " 26  Zone 22  200 non-null    uint8  \n",
      " 27  Zone 23  200 non-null    uint8  \n",
      " 28  Zone 24  200 non-null    uint8  \n",
      " 29  Zone 25  200 non-null    uint8  \n",
      " 30  Zone 26  200 non-null    uint8  \n",
      " 31  Zone 27  200 non-null    uint8  \n",
      " 32  Zone 28  200 non-null    uint8  \n",
      " 33  Zone 29  200 non-null    int64  \n",
      " 34  Zone 3   200 non-null    uint8  \n",
      " 35  Zone 30  200 non-null    uint8  \n",
      " 36  Zone 31  200 non-null    uint8  \n",
      " 37  Zone 32  200 non-null    uint8  \n",
      " 38  Zone 33  200 non-null    int64  \n",
      " 39  Zone 34  200 non-null    uint8  \n",
      " 40  Zone 35  200 non-null    int64  \n",
      " 41  Zone 36  200 non-null    int64  \n",
      " 42  Zone 37  200 non-null    uint8  \n",
      " 43  Zone 38  200 non-null    uint8  \n",
      " 44  Zone 39  200 non-null    int64  \n",
      " 45  Zone 4   200 non-null    uint8  \n",
      " 46  Zone 40  200 non-null    int64  \n",
      " 47  Zone 41  200 non-null    int64  \n",
      " 48  Zone 42  200 non-null    int64  \n",
      " 49  Zone 43  200 non-null    int64  \n",
      " 50  Zone 44  200 non-null    int64  \n",
      " 51  Zone 45  200 non-null    int64  \n",
      " 52  Zone 46  200 non-null    int64  \n",
      " 53  Zone 5   200 non-null    uint8  \n",
      " 54  Zone 55  200 non-null    int64  \n",
      " 55  Zone 6   200 non-null    uint8  \n",
      " 56  Zone 7   200 non-null    uint8  \n",
      " 57  Zone 8   200 non-null    uint8  \n",
      " 58  Zone 9   200 non-null    uint8  \n",
      " 59  1.0      200 non-null    uint8  \n",
      " 60  2.0      200 non-null    uint8  \n",
      " 61  3.0      200 non-null    uint8  \n",
      " 62  4.0      200 non-null    uint8  \n",
      " 63  5.0      200 non-null    uint8  \n",
      " 64  6.0      200 non-null    uint8  \n",
      " 65  7.0      200 non-null    uint8  \n",
      " 66  8.0      200 non-null    int64  \n",
      "dtypes: float64(4), int32(1), int64(17), uint8(45)\n",
      "memory usage: 42.5 KB\n"
     ]
    }
   ],
   "source": [
    "df_test.info()"
   ]
  },
  {
   "cell_type": "markdown",
   "metadata": {},
   "source": [
    "# Machine learning models (20 points)"
   ]
  },
  {
   "cell_type": "code",
   "execution_count": 29,
   "metadata": {},
   "outputs": [],
   "source": [
    "from sklearn.model_selection import train_test_split\n",
    "from sklearn.preprocessing import MinMaxScaler\n",
    "from sklearn.metrics import precision_score\n",
    "from sklearn.metrics import confusion_matrix"
   ]
  },
  {
   "cell_type": "code",
   "execution_count": 30,
   "metadata": {},
   "outputs": [],
   "source": [
    "y = df_train['custcat']\n",
    "x = df_train.drop('custcat', axis =1)"
   ]
  },
  {
   "cell_type": "code",
   "execution_count": 31,
   "metadata": {},
   "outputs": [
    {
     "name": "stdout",
     "output_type": "stream",
     "text": [
      "<class 'pandas.core.frame.DataFrame'>\n",
      "Int64Index: 748 entries, 0 to 799\n",
      "Data columns (total 67 columns):\n",
      " #   Column   Non-Null Count  Dtype  \n",
      "---  ------   --------------  -----  \n",
      " 0   region   748 non-null    float64\n",
      " 1   tenure   748 non-null    int64  \n",
      " 2   age      748 non-null    int64  \n",
      " 3   income   748 non-null    float64\n",
      " 4   ed       748 non-null    float64\n",
      " 5   employ   748 non-null    int64  \n",
      " 6   retire   748 non-null    int64  \n",
      " 7   gender   748 non-null    int64  \n",
      " 8   Married  748 non-null    uint8  \n",
      " 9   Single   748 non-null    uint8  \n",
      " 10  Unknown  748 non-null    uint8  \n",
      " 11  Zone 0   748 non-null    uint8  \n",
      " 12  Zone 1   748 non-null    uint8  \n",
      " 13  Zone 10  748 non-null    uint8  \n",
      " 14  Zone 11  748 non-null    uint8  \n",
      " 15  Zone 12  748 non-null    uint8  \n",
      " 16  Zone 13  748 non-null    uint8  \n",
      " 17  Zone 14  748 non-null    uint8  \n",
      " 18  Zone 15  748 non-null    uint8  \n",
      " 19  Zone 16  748 non-null    uint8  \n",
      " 20  Zone 17  748 non-null    uint8  \n",
      " 21  Zone 18  748 non-null    uint8  \n",
      " 22  Zone 19  748 non-null    uint8  \n",
      " 23  Zone 2   748 non-null    uint8  \n",
      " 24  Zone 20  748 non-null    uint8  \n",
      " 25  Zone 21  748 non-null    uint8  \n",
      " 26  Zone 22  748 non-null    uint8  \n",
      " 27  Zone 23  748 non-null    uint8  \n",
      " 28  Zone 24  748 non-null    uint8  \n",
      " 29  Zone 25  748 non-null    uint8  \n",
      " 30  Zone 26  748 non-null    uint8  \n",
      " 31  Zone 27  748 non-null    uint8  \n",
      " 32  Zone 28  748 non-null    uint8  \n",
      " 33  Zone 29  748 non-null    uint8  \n",
      " 34  Zone 3   748 non-null    uint8  \n",
      " 35  Zone 30  748 non-null    uint8  \n",
      " 36  Zone 31  748 non-null    uint8  \n",
      " 37  Zone 32  748 non-null    uint8  \n",
      " 38  Zone 33  748 non-null    uint8  \n",
      " 39  Zone 34  748 non-null    uint8  \n",
      " 40  Zone 35  748 non-null    uint8  \n",
      " 41  Zone 36  748 non-null    uint8  \n",
      " 42  Zone 37  748 non-null    uint8  \n",
      " 43  Zone 38  748 non-null    uint8  \n",
      " 44  Zone 39  748 non-null    uint8  \n",
      " 45  Zone 4   748 non-null    uint8  \n",
      " 46  Zone 40  748 non-null    uint8  \n",
      " 47  Zone 41  748 non-null    uint8  \n",
      " 48  Zone 42  748 non-null    uint8  \n",
      " 49  Zone 43  748 non-null    uint8  \n",
      " 50  Zone 44  748 non-null    uint8  \n",
      " 51  Zone 45  748 non-null    uint8  \n",
      " 52  Zone 46  748 non-null    uint8  \n",
      " 53  Zone 5   748 non-null    uint8  \n",
      " 54  Zone 55  748 non-null    uint8  \n",
      " 55  Zone 6   748 non-null    uint8  \n",
      " 56  Zone 7   748 non-null    uint8  \n",
      " 57  Zone 8   748 non-null    uint8  \n",
      " 58  Zone 9   748 non-null    uint8  \n",
      " 59  1.0      748 non-null    uint8  \n",
      " 60  2.0      748 non-null    uint8  \n",
      " 61  3.0      748 non-null    uint8  \n",
      " 62  4.0      748 non-null    uint8  \n",
      " 63  5.0      748 non-null    uint8  \n",
      " 64  6.0      748 non-null    uint8  \n",
      " 65  7.0      748 non-null    uint8  \n",
      " 66  8.0      748 non-null    uint8  \n",
      "dtypes: float64(3), int64(5), uint8(59)\n",
      "memory usage: 95.7 KB\n"
     ]
    }
   ],
   "source": [
    "x.info()"
   ]
  },
  {
   "cell_type": "code",
   "execution_count": 32,
   "metadata": {},
   "outputs": [],
   "source": [
    "x_train_org, x_test_org, y_train, y_test = train_test_split(x, y, random_state = 42, test_size = 0.2)\n",
    "scaler = MinMaxScaler()\n",
    "x_train = scaler.fit_transform(x_train_org)\n",
    "x_test = scaler.transform(x_test_org)\n",
    "df_test_x = scaler.transform(df_test)"
   ]
  },
  {
   "cell_type": "code",
   "execution_count": 33,
   "metadata": {},
   "outputs": [
    {
     "name": "stdout",
     "output_type": "stream",
     "text": [
      "Train Macro Precision score: 0.4508\n",
      "Test Macro Precision score: 0.2726\n"
     ]
    },
    {
     "data": {
      "image/png": "[encoded data removed]",
      "text/plain": [
       "<Figure size 1800x360 with 1 Axes>"
      ]
     },
     "metadata": {
      "needs_background": "light"
     },
     "output_type": "display_data"
    }
   ],
   "source": [
    "from sklearn.neighbors import KNeighborsClassifier\n",
    "train_score_array = []\n",
    "test_score_array = []\n",
    "\n",
    "x_axis = range(1,25)\n",
    "\n",
    "for k in x_axis:\n",
    "    knn = KNeighborsClassifier(k)\n",
    "    knn.fit(x_train, y_train)\n",
    "    train_score_array.append(knn.score(x_train, y_train))\n",
    "    test_score_array.append(knn.score(x_test, y_test))\n",
    "\n",
    "%matplotlib inline\n",
    "\n",
    "plt.subplots(figsize = (25,5))\n",
    "plt.plot(x_axis, train_score_array, label = 'Train Score', c = 'g')\n",
    "plt.plot(x_axis, test_score_array, label = 'Test Score', c='b')\n",
    "plt.xlabel('n_neighbors')\n",
    "plt.ylabel('Accuracy')\n",
    "plt.xticks(x_axis, np.arange(25))\n",
    "plt.grid()\n",
    "plt.legend()\n",
    "\n",
    "knn = KNeighborsClassifier(12)\n",
    "knn.fit(x_train, y_train)\n",
    "print('Train Macro Precision score: %.4f'%precision_score(y_train, knn.predict(x_train), average = 'macro'))\n",
    "print('Test Macro Precision score: %.4f'%precision_score(y_test, knn.predict(x_test), average = 'macro'))\n",
    "# k = 12 best results"
   ]
  },
  {
   "cell_type": "code",
   "execution_count": 34,
   "metadata": {
    "scrolled": true
   },
   "outputs": [
    {
     "name": "stdout",
     "output_type": "stream",
     "text": [
      "Train Macro Precision score: 0.4667\n",
      "Test Macro Precision score: 0.2972\n"
     ]
    },
    {
     "data": {
      "image/png": "[encoded data removed]",
      "text/plain": [
       "<Figure size 1440x360 with 1 Axes>"
      ]
     },
     "metadata": {
      "needs_background": "light"
     },
     "output_type": "display_data"
    }
   ],
   "source": [
    "from sklearn.linear_model import LogisticRegression\n",
    "\n",
    "c_range = [0.001, 0.01, 0.1, 1, 10, 100, 1000]\n",
    "train_score_l2 = []\n",
    "test_score_l2 = []\n",
    "\n",
    "for c in c_range:\n",
    "    log_l2 = LogisticRegression(penalty = 'l2', C = c, solver = 'lbfgs', max_iter = 5000, random_state=42, multi_class = 'multinomial')\n",
    "    log_l2.fit(x_train, y_train)\n",
    "    train_score_l2.append(log_l2.score(x_train, y_train))\n",
    "    test_score_l2.append(log_l2.score(x_test, y_test))\n",
    "    \n",
    "plt.subplots(figsize = (20,5))\n",
    "plt.plot(c_range, train_score_l2, label = 'Train score, penalty = l2')\n",
    "plt.plot(c_range, test_score_l2, label = 'Test score, penalty = l2')\n",
    "plt.legend()\n",
    "plt.xlabel('Regularization parameter: C')\n",
    "plt.ylabel('Accuracy')\n",
    "plt.xscale('log') \n",
    "#L1 with C=1\n",
    "log_l2 = LogisticRegression(penalty = 'l2', C = 1, solver = 'lbfgs', max_iter = 5000, random_state=42, multi_class = 'multinomial')\n",
    "log_l2.fit(x_train, y_train)\n",
    "print('Train Macro Precision score: %.4f'%precision_score(y_train, log_l2.predict(x_train), average = 'macro'))\n",
    "print('Test Macro Precision score: %.4f'%precision_score(y_test, log_l2.predict(x_test), average = 'macro'))"
   ]
  },
  {
   "cell_type": "code",
   "execution_count": 35,
   "metadata": {},
   "outputs": [
    {
     "name": "stdout",
     "output_type": "stream",
     "text": [
      "Train Macro Precision score: 0.1307\n",
      "Test Macro Precision score: 0.1188\n"
     ]
    },
    {
     "name": "stderr",
     "output_type": "stream",
     "text": [
      "C:\\Users\\268671\\Anaconda3\\lib\\site-packages\\sklearn\\metrics\\_classification.py:1272: UndefinedMetricWarning: Precision is ill-defined and being set to 0.0 in labels with no predicted samples. Use `zero_division` parameter to control this behavior.\n",
      "  _warn_prf(average, modifier, msg_start, len(result))\n",
      "C:\\Users\\268671\\Anaconda3\\lib\\site-packages\\sklearn\\metrics\\_classification.py:1272: UndefinedMetricWarning: Precision is ill-defined and being set to 0.0 in labels with no predicted samples. Use `zero_division` parameter to control this behavior.\n",
      "  _warn_prf(average, modifier, msg_start, len(result))\n"
     ]
    },
    {
     "data": {
      "image/png": "[encoded data removed]",
      "text/plain": [
       "<Figure size 1440x360 with 1 Axes>"
      ]
     },
     "metadata": {
      "needs_background": "light"
     },
     "output_type": "display_data"
    }
   ],
   "source": [
    "from sklearn.tree import DecisionTreeClassifier\n",
    "\n",
    "%matplotlib inline\n",
    "train_score_array = []\n",
    "test_score_array = []\n",
    "x_axis = range(1,20)\n",
    "\n",
    "for k in x_axis:\n",
    "    clf = DecisionTreeClassifier(random_state=42,max_depth=k)\n",
    "    clf.fit(x_train_org, y_train)\n",
    "\n",
    "    train_score_array.append(clf.score(x_train_org, y_train))\n",
    "    test_score_array.append(clf.score(x_test_org, y_test))\n",
    "    \n",
    "\n",
    "plt.subplots(figsize = (20,5))\n",
    "plt.plot(x_axis, train_score_array, c = 'g', label = 'Train Score')\n",
    "plt.plot(x_axis, test_score_array, c = 'b', label = 'Test Score')\n",
    "plt.legend()\n",
    "plt.xlabel('Decision Tree Regressor')\n",
    "plt.ylabel('Score')\n",
    "#max_depth = 10\n",
    "\n",
    "clf = DecisionTreeClassifier(random_state=42,max_depth=10)\n",
    "clf.fit(x_train_org, y_train)\n",
    "print('Train Macro Precision score: %.4f'%precision_score(y_train, clf.predict(x_train), average = 'macro'))\n",
    "print('Test Macro Precision score: %.4f'%precision_score(y_test, clf.predict(x_test), average = 'macro'))"
   ]
  },
  {
   "cell_type": "code",
   "execution_count": 36,
   "metadata": {},
   "outputs": [
    {
     "name": "stderr",
     "output_type": "stream",
     "text": [
      "C:\\Users\\268671\\Anaconda3\\lib\\site-packages\\sklearn\\svm\\_base.py:947: ConvergenceWarning: Liblinear failed to converge, increase the number of iterations.\n",
      "  \"the number of iterations.\", ConvergenceWarning)\n",
      "C:\\Users\\268671\\Anaconda3\\lib\\site-packages\\sklearn\\svm\\_base.py:947: ConvergenceWarning: Liblinear failed to converge, increase the number of iterations.\n",
      "  \"the number of iterations.\", ConvergenceWarning)\n",
      "C:\\Users\\268671\\Anaconda3\\lib\\site-packages\\sklearn\\svm\\_base.py:947: ConvergenceWarning: Liblinear failed to converge, increase the number of iterations.\n",
      "  \"the number of iterations.\", ConvergenceWarning)\n",
      "C:\\Users\\268671\\Anaconda3\\lib\\site-packages\\sklearn\\svm\\_base.py:947: ConvergenceWarning: Liblinear failed to converge, increase the number of iterations.\n",
      "  \"the number of iterations.\", ConvergenceWarning)\n"
     ]
    },
    {
     "name": "stdout",
     "output_type": "stream",
     "text": [
      "Train Score:  [0.44816053511705684, 0.49331103678929766, 0.4782608695652174, 0.48327759197324416, 0.48494983277591974, 0.4816053511705686, 0.41638795986622074, 0.41638795986622074, 0.4180602006688963]\n",
      "Test Score:  [0.32666666666666666, 0.32, 0.32, 0.32, 0.32666666666666666, 0.32666666666666666, 0.26, 0.26, 0.3933333333333333]\n"
     ]
    },
    {
     "name": "stderr",
     "output_type": "stream",
     "text": [
      "C:\\Users\\268671\\Anaconda3\\lib\\site-packages\\sklearn\\svm\\_base.py:947: ConvergenceWarning: Liblinear failed to converge, increase the number of iterations.\n",
      "  \"the number of iterations.\", ConvergenceWarning)\n"
     ]
    },
    {
     "name": "stdout",
     "output_type": "stream",
     "text": [
      "Train Macro Precision score: 0.4129\n",
      "Test Macro Precision score: 0.2551\n"
     ]
    },
    {
     "data": {
      "image/png": "[encoded data removed]",
      "text/plain": [
       "<Figure size 720x360 with 1 Axes>"
      ]
     },
     "metadata": {
      "needs_background": "light"
     },
     "output_type": "display_data"
    }
   ],
   "source": [
    "from sklearn.svm import LinearSVC\n",
    "\n",
    "train_scores =[]\n",
    "test_scores = []\n",
    "x_range = [0.01, 0.1, 1, 10, 100, 1000, 10000, 10000,100000]\n",
    "\n",
    "for i in x_range:\n",
    "    clf1 = LinearSVC(random_state = 42, C = i, max_iter = 100000)\n",
    "    clf1.fit(x_train, y_train)\n",
    "    train_scores.append(clf1.score(x_train, y_train))\n",
    "    test_scores.append(clf1.score(x_test, y_test))\n",
    "print('Train Score: ', train_scores)\n",
    "print('Test Score: ', test_scores)\n",
    "\n",
    "plt.figure(figsize=(10,5))\n",
    "plt.plot(x_range, train_scores, color = 'blue', label = 'Train Scores')\n",
    "plt.plot(x_range, test_scores, color = 'green', label = 'Test Scores')\n",
    "plt.xscale('log')\n",
    "plt.legend()\n",
    "#best C = 10000\n",
    "\n",
    "clf1 = LinearSVC(random_state = 42, C = 10000, max_iter = 100000)\n",
    "clf1.fit(x_train, y_train)\n",
    "print('Train Macro Precision score: %.4f'%precision_score(y_train, clf1.predict(x_train), average = 'macro'))\n",
    "print('Test Macro Precision score: %.4f'%precision_score(y_test, clf1.predict(x_test), average = 'macro'))"
   ]
  },
  {
   "cell_type": "code",
   "execution_count": 37,
   "metadata": {},
   "outputs": [],
   "source": [
    "from sklearn.model_selection import GridSearchCV\n",
    "from sklearn.svm import SVC\n",
    "param_grid = {'C': [100,1000,10000,100000, 1000000],\n",
    "              'gamma': [0.1, 1, 10, 100]}"
   ]
  },
  {
   "cell_type": "code",
   "execution_count": 38,
   "metadata": {},
   "outputs": [
    {
     "name": "stdout",
     "output_type": "stream",
     "text": [
      "Best parameters: {'C': 100, 'gamma': 0.1}\n",
      "Best cross-validation score: 0.35\n",
      "Train Macro Precision score: 0.9968\n",
      "Test Macro Precision score: 0.2959\n"
     ]
    }
   ],
   "source": [
    "grid_search = GridSearchCV(SVC(kernel = 'rbf'), param_grid, cv=3, return_train_score=True, n_jobs = -1)\n",
    "grid_search.fit(x_train, y_train)\n",
    "print(\"Best parameters: {}\".format(grid_search.best_params_))\n",
    "print(\"Best cross-validation score: {:.2f}\".format(grid_search.best_score_))\n",
    "\n",
    "svc_rbf = SVC(kernel = 'rbf', C = 100, gamma = 1)\n",
    "svc_rbf.fit(x_train, y_train)\n",
    "print('Train Macro Precision score: %.4f'%precision_score(y_train, svc_rbf.predict(x_train), average = 'macro'))\n",
    "print('Test Macro Precision score: %.4f'%precision_score(y_test, svc_rbf.predict(x_test), average = 'macro'))"
   ]
  },
  {
   "cell_type": "code",
   "execution_count": 39,
   "metadata": {},
   "outputs": [
    {
     "name": "stdout",
     "output_type": "stream",
     "text": [
      "Train Macro Precision score: 0.4992\n",
      "Test Macro Precision score: 0.3209\n"
     ]
    }
   ],
   "source": [
    "svc_linear = SVC(kernel = 'linear', C = 100, gamma = 1)\n",
    "svc_linear.fit(x_train, y_train)\n",
    "print('Train Macro Precision score: %.4f'%precision_score(y_train, svc_linear.predict(x_train), average = 'macro'))\n",
    "print('Test Macro Precision score: %.4f'%precision_score(y_test, svc_linear.predict(x_test), average = 'macro'))"
   ]
  },
  {
   "cell_type": "code",
   "execution_count": 40,
   "metadata": {},
   "outputs": [
    {
     "name": "stdout",
     "output_type": "stream",
     "text": [
      "Best parameters: {'C': 100, 'gamma': 0.1}\n",
      "Best cross-validation score: 0.34\n"
     ]
    }
   ],
   "source": [
    "param_grid = {'C': [100,1000,10000,100000, 1000000],\n",
    "              'gamma': [0.1, 1, 10, 100]}\n",
    "grid_search_poly = GridSearchCV(SVC(kernel='poly', degree = 2), param_grid, cv=3, return_train_score=True, n_jobs = -1)\n",
    "grid_search_poly.fit(x_train, y_train)\n",
    "print(\"Best parameters: {}\".format(grid_search_poly.best_params_))\n",
    "print(\"Best cross-validation score: {:.2f}\".format(grid_search_poly.best_score_))"
   ]
  },
  {
   "cell_type": "code",
   "execution_count": 41,
   "metadata": {},
   "outputs": [
    {
     "name": "stdout",
     "output_type": "stream",
     "text": [
      "LogisticRegression 0.2928\n",
      "DecisionTreeClassifier 0.3002\n",
      "SVC 0.2959\n",
      "VotingClassifier 0.3089\n"
     ]
    }
   ],
   "source": [
    "#Hard Voting Classifier\n",
    "from sklearn.ensemble import VotingClassifier\n",
    "log_clf = LogisticRegression(penalty = 'l2', C = 10, solver = 'lbfgs', max_iter = 5000, random_state=42)\n",
    "dtree_clf = DecisionTreeClassifier(random_state=42,max_depth=10)\n",
    "svc_clf = SVC(C = 100, gamma =1, probability = True, random_state= 42, kernel = 'rbf')\n",
    "\n",
    "voting_hard_clf = VotingClassifier(estimators=[('lr', log_clf), ('dt', dtree_clf), ('svc', svc_clf)], voting='hard')\n",
    "voting_hard_clf.fit(x_train, y_train)\n",
    "\n",
    "from sklearn.metrics import precision_score\n",
    "for clf in (log_clf, dtree_clf, svc_clf, voting_hard_clf):\n",
    "    clf.fit(x_train, y_train)\n",
    "    y_pred = clf.predict(x_test)\n",
    "    print(clf.__class__.__name__, '%.4f'%precision_score(y_test, y_pred, average = 'macro'))\n"
   ]
  },
  {
   "cell_type": "code",
   "execution_count": 42,
   "metadata": {},
   "outputs": [
    {
     "name": "stdout",
     "output_type": "stream",
     "text": [
      "LogisticRegression 0.2928\n",
      "DecisionTreeClassifier 0.3002\n",
      "SVC 0.2959\n",
      "VotingClassifier 0.2871\n"
     ]
    }
   ],
   "source": [
    "#Soft Voting Classifier\n",
    "voting_hard_clf = VotingClassifier(estimators=[('lr', log_clf), ('dt', dtree_clf), ('svc', svc_clf)], voting='soft')\n",
    "voting_hard_clf.fit(x_train, y_train)\n",
    "for clf in (log_clf, dtree_clf, svc_clf, voting_hard_clf):\n",
    "    clf.fit(x_train, y_train)\n",
    "    y_pred = clf.predict(x_test)\n",
    "    print(clf.__class__.__name__, '%.4f'%precision_score(y_test, y_pred, average = 'macro'))"
   ]
  },
  {
   "cell_type": "code",
   "execution_count": 43,
   "metadata": {},
   "outputs": [
    {
     "name": "stdout",
     "output_type": "stream",
     "text": [
      "Train Macro Precision score: 0.7177\n",
      "Test Macro Precision score: 0.4150\n",
      "Out-of-bag score: 0.3746\n"
     ]
    }
   ],
   "source": [
    "#Bagging - Decision Tree\n",
    "from sklearn.ensemble import BaggingClassifier\n",
    "bag_clf = BaggingClassifier(dtree_clf, n_estimators=500, max_samples=100, bootstrap=True, random_state=42, oob_score = True)\n",
    "bag_clf.fit(x_train, y_train)\n",
    "y_pred = bag_clf.predict(x_test)\n",
    "\n",
    "print('Train Macro Precision score: %.4f'%precision_score(y_train, bag_clf.predict(x_train), average = 'macro'))\n",
    "print('Test Macro Precision score: %.4f'%precision_score(y_test, bag_clf.predict(x_test), average = 'macro'))\n",
    "print('Out-of-bag score: %.4f'%bag_clf.oob_score_)"
   ]
  },
  {
   "cell_type": "code",
   "execution_count": 44,
   "metadata": {},
   "outputs": [
    {
     "name": "stdout",
     "output_type": "stream",
     "text": [
      "Train Macro Precision score: 0.4963\n",
      "Test Macro Precision score: 0.2791\n",
      "Out-of-bag score: 0.3462\n"
     ]
    }
   ],
   "source": [
    "#Bagging - Logistic \n",
    "bag_clf = BaggingClassifier(log_clf, n_estimators=500, max_samples=100, bootstrap=True, random_state=42, oob_score = True)\n",
    "bag_clf.fit(x_train, y_train)\n",
    "y_pred = bag_clf.predict(x_test)\n",
    "\n",
    "print('Train Macro Precision score: %.4f'%precision_score(y_train, bag_clf.predict(x_train), average = 'macro'))\n",
    "print('Test Macro Precision score: %.4f'%precision_score(y_test, bag_clf.predict(x_test), average = 'macro'))\n",
    "print('Out-of-bag score: %.4f'%bag_clf.oob_score_)"
   ]
  },
  {
   "cell_type": "code",
   "execution_count": 45,
   "metadata": {},
   "outputs": [
    {
     "name": "stdout",
     "output_type": "stream",
     "text": [
      "Train Macro Precision score: 0.7168\n",
      "Test Macro Precision score: 0.3871\n"
     ]
    }
   ],
   "source": [
    "#Pasting - Decision Tree\n",
    "bag_clf = BaggingClassifier(dtree_clf, n_estimators=500, max_samples=100, bootstrap=False, random_state=42)\n",
    "bag_clf.fit(x_train, y_train)\n",
    "y_pred = bag_clf.predict(x_test)\n",
    "\n",
    "print('Train Macro Precision score: %.4f'%precision_score(y_train, bag_clf.predict(x_train), average = 'macro'))\n",
    "print('Test Macro Precision score: %.4f'%precision_score(y_test, bag_clf.predict(x_test), average = 'macro'))"
   ]
  },
  {
   "cell_type": "code",
   "execution_count": 46,
   "metadata": {},
   "outputs": [
    {
     "name": "stdout",
     "output_type": "stream",
     "text": [
      "Train Macro Precision score: 0.4994\n",
      "Test Macro Precision score: 0.2734\n"
     ]
    }
   ],
   "source": [
    "#Pasting - Logistic\n",
    "bag_clf = BaggingClassifier(log_clf, n_estimators=500, max_samples=100, bootstrap=False, random_state=42)\n",
    "bag_clf.fit(x_train, y_train)\n",
    "y_pred = bag_clf.predict(x_test)\n",
    "\n",
    "print('Train Macro Precision score: %.4f'%precision_score(y_train, bag_clf.predict(x_train), average = 'macro'))\n",
    "print('Test Macro Precision score: %.4f'%precision_score(y_test, bag_clf.predict(x_test), average = 'macro'))"
   ]
  },
  {
   "cell_type": "code",
   "execution_count": 47,
   "metadata": {},
   "outputs": [
    {
     "name": "stdout",
     "output_type": "stream",
     "text": [
      "Train Macro Precision score: 1.0000\n",
      "Test Macro Precision score: 0.3211\n"
     ]
    }
   ],
   "source": [
    "from sklearn.ensemble import AdaBoostClassifier\n",
    "dtree_clf = DecisionTreeClassifier(random_state=42,max_depth=10)\n",
    "ab =AdaBoostClassifier(n_estimators=50, base_estimator=dtree_clf,learning_rate=1, random_state=42)\n",
    "ab_model = ab.fit(x_train, y_train)\n",
    "y_pred = ab_model.predict(x_test)\n",
    "\n",
    "print('Train Macro Precision score: %.4f'%precision_score(y_train, ab_model.predict(x_train), average = 'macro'))\n",
    "print('Test Macro Precision score: %.4f'%precision_score(y_test, ab_model.predict(x_test), average = 'macro'))"
   ]
  },
  {
   "cell_type": "code",
   "execution_count": 48,
   "metadata": {},
   "outputs": [
    {
     "name": "stdout",
     "output_type": "stream",
     "text": [
      "Train Macro Precision score: 0.6443\n",
      "Test Macro Precision score: 0.3463\n"
     ]
    }
   ],
   "source": [
    "from sklearn.ensemble import GradientBoostingClassifier\n",
    "gbrt = GradientBoostingClassifier(max_depth=2, n_estimators=100, learning_rate=0.1, random_state=42)\n",
    "gbrt.fit(x_train, y_train)\n",
    "print('Train Macro Precision score: %.4f'%precision_score(y_train, gbrt.predict(x_train), average = 'macro'))\n",
    "print('Test Macro Precision score: %.4f'%precision_score(y_test, gbrt.predict(x_test), average = 'macro'))"
   ]
  },
  {
   "cell_type": "markdown",
   "metadata": {},
   "source": [
    "# Best model ( 5 points)\n",
    "Explain which machine learning model is the best model for this dataset and why? "
   ]
  },
  {
   "cell_type": "markdown",
   "metadata": {},
   "source": [
    "The best model was generated using a Decision Tree Classifier with Bagging. It had the highest macro precision score on the test dataset (part of the train dataset)."
   ]
  },
  {
   "cell_type": "code",
   "execution_count": 49,
   "metadata": {},
   "outputs": [
    {
     "name": "stdout",
     "output_type": "stream",
     "text": [
      "Train Macro Precision score: 0.7177\n",
      "Test Macro Precision score: 0.4150\n",
      "Out-of-bag score: 0.3746\n"
     ]
    }
   ],
   "source": [
    "#Bagging - Decision Tree\n",
    "from sklearn.ensemble import BaggingClassifier\n",
    "dtree_clf = DecisionTreeClassifier(random_state=42,max_depth=10)\n",
    "bag_clf = BaggingClassifier(dtree_clf, n_estimators=500, max_samples=100, bootstrap=True, random_state=42, oob_score = True)\n",
    "bag_clf.fit(x_train, y_train)\n",
    "y_pred = bag_clf.predict(x_test)\n",
    "\n",
    "print('Train Macro Precision score: %.4f'%precision_score(y_train, bag_clf.predict(x_train), average = 'macro'))\n",
    "print('Test Macro Precision score: %.4f'%precision_score(y_test, bag_clf.predict(x_test), average = 'macro'))\n",
    "print('Out-of-bag score: %.4f'%bag_clf.oob_score_)"
   ]
  },
  {
   "cell_type": "markdown",
   "metadata": {},
   "source": [
    "# Grading (50 points)\n",
    "You should be able to correctly print the final prediction executing the following statement: "
   ]
  },
  {
   "cell_type": "code",
   "execution_count": 51,
   "metadata": {},
   "outputs": [
    {
     "data": {
      "text/plain": [
       "200"
      ]
     },
     "execution_count": 51,
     "metadata": {},
     "output_type": "execute_result"
    }
   ],
   "source": [
    "final_test_prediction = bag_clf.predict(df_test_x)"
   ]
  },
  {
   "cell_type": "code",
   "execution_count": 52,
   "metadata": {},
   "outputs": [
    {
     "data": {
      "text/plain": [
       "array(['D', 'C', 'B', 'A', 'A', 'D', 'A', 'A', 'A', 'C', 'C', 'C', 'A',\n",
       "       'D', 'A', 'A', 'A', 'C', 'A', 'C', 'C', 'C', 'A', 'B', 'C', 'C',\n",
       "       'A', 'D', 'B', 'C', 'C', 'A', 'D', 'B', 'A', 'D', 'D', 'C', 'C',\n",
       "       'C', 'C', 'A', 'D', 'C', 'A', 'C', 'A', 'A', 'C', 'D', 'C', 'D',\n",
       "       'B', 'B', 'C', 'A', 'B', 'C', 'C', 'D', 'A', 'B', 'D', 'C', 'B',\n",
       "       'A', 'D', 'A', 'A', 'A', 'A', 'A', 'D', 'D', 'A', 'D', 'B', 'C',\n",
       "       'D', 'C', 'A', 'D', 'C', 'A', 'A', 'B', 'B', 'C', 'D', 'A', 'A',\n",
       "       'C', 'C', 'C', 'C', 'A', 'C', 'B', 'D', 'D', 'A', 'A', 'C', 'C',\n",
       "       'C', 'A', 'D', 'C', 'D', 'D', 'C', 'D', 'D', 'A', 'B', 'D', 'C',\n",
       "       'A', 'D', 'C', 'C', 'A', 'C', 'A', 'C', 'D', 'A', 'D', 'D', 'A',\n",
       "       'A', 'C', 'D', 'B', 'C', 'A', 'D', 'A', 'D', 'C', 'B', 'A', 'A',\n",
       "       'C', 'D', 'A', 'A', 'C', 'A', 'C', 'C', 'C', 'C', 'C', 'C', 'D',\n",
       "       'A', 'C', 'B', 'A', 'A', 'B', 'B', 'C', 'D', 'C', 'D', 'B', 'D',\n",
       "       'C', 'A', 'D', 'D', 'C', 'C', 'B', 'A', 'C', 'C', 'A', 'A', 'D',\n",
       "       'A', 'A', 'D', 'B', 'B', 'A', 'B', 'C', 'A', 'A', 'A', 'D', 'B',\n",
       "       'D', 'B', 'C', 'A', 'D'], dtype=object)"
      ]
     },
     "execution_count": 52,
     "metadata": {},
     "output_type": "execute_result"
    }
   ],
   "source": [
    "final_test_prediction"
   ]
  }
 ],
 "metadata": {
  "kernelspec": {
   "display_name": "Python 3",
   "language": "python",
   "name": "python3"
  },
  "language_info": {
   "codemirror_mode": {
    "name": "ipython",
    "version": 3
   },
   "file_extension": ".py",
   "mimetype": "text/x-python",
   "name": "python",
   "nbconvert_exporter": "python",
   "pygments_lexer": "ipython3",
   "version": "3.8.8"
  }
 },
 "nbformat": 4,
 "nbformat_minor": 2
}
